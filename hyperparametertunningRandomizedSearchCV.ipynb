{
 "cells": [
  {
   "cell_type": "code",
   "execution_count": 1,
   "id": "a570a8a9",
   "metadata": {},
   "outputs": [
    {
     "name": "stdout",
     "output_type": "stream",
     "text": [
      "Defaulting to user installation because normal site-packages is not writeable\n",
      "Requirement already satisfied: pandas in c:\\programdata\\anaconda3\\lib\\site-packages (1.5.3)\n",
      "Requirement already satisfied: scikit-learn in c:\\programdata\\anaconda3\\lib\\site-packages (1.2.1)\n",
      "Requirement already satisfied: scipy in c:\\programdata\\anaconda3\\lib\\site-packages (1.10.0)\n",
      "Requirement already satisfied: pytz>=2020.1 in c:\\programdata\\anaconda3\\lib\\site-packages (from pandas) (2022.7)\n",
      "Requirement already satisfied: python-dateutil>=2.8.1 in c:\\programdata\\anaconda3\\lib\\site-packages (from pandas) (2.8.2)\n",
      "Requirement already satisfied: numpy>=1.21.0 in c:\\programdata\\anaconda3\\lib\\site-packages (from pandas) (1.23.5)\n",
      "Requirement already satisfied: threadpoolctl>=2.0.0 in c:\\programdata\\anaconda3\\lib\\site-packages (from scikit-learn) (2.2.0)\n",
      "Requirement already satisfied: joblib>=1.1.1 in c:\\programdata\\anaconda3\\lib\\site-packages (from scikit-learn) (1.1.1)\n",
      "Requirement already satisfied: six>=1.5 in c:\\programdata\\anaconda3\\lib\\site-packages (from python-dateutil>=2.8.1->pandas) (1.16.0)\n",
      "Note: you may need to restart the kernel to use updated packages.\n"
     ]
    }
   ],
   "source": [
    "pip install pandas scikit-learn scipy"
   ]
  },
  {
   "cell_type": "code",
   "execution_count": 2,
   "id": "da45dbf0",
   "metadata": {},
   "outputs": [],
   "source": [
    "import pandas as pd\n",
    "from sklearn.model_selection import train_test_split, RandomizedSearchCV\n",
    "from sklearn.preprocessing import StandardScaler\n",
    "from sklearn.metrics import classification_report, confusion_matrix\n",
    "from sklearn.linear_model import LogisticRegression\n",
    "from sklearn.neighbors import KNeighborsClassifier\n",
    "from sklearn.tree import DecisionTreeClassifier\n",
    "from sklearn.ensemble import RandomForestClassifier\n",
    "from scipy.stats import uniform, randint"
   ]
  },
  {
   "cell_type": "code",
   "execution_count": 3,
   "id": "d5074f08",
   "metadata": {},
   "outputs": [],
   "source": [
    "credit_card_data=pd.read_csv(\"creditcard.csv.zip\")"
   ]
  },
  {
   "cell_type": "code",
   "execution_count": 4,
   "id": "0283a229",
   "metadata": {},
   "outputs": [],
   "source": [
    "X = credit_card_data.drop('Class', axis=1)\n",
    "y = credit_card_data['Class']"
   ]
  },
  {
   "cell_type": "code",
   "execution_count": 5,
   "id": "929aaed4",
   "metadata": {},
   "outputs": [],
   "source": [
    "scaler = StandardScaler()\n",
    "X_scaled = scaler.fit_transform(X)\n",
    "X_train, X_test, y_train, y_test = train_test_split(X, y, test_size=0.3, random_state=42)"
   ]
  },
  {
   "cell_type": "code",
   "execution_count": 6,
   "id": "f7cfe704",
   "metadata": {},
   "outputs": [],
   "source": [
    "models_params = {\n",
    "    'Logistic Regression': {\n",
    "        'model': LogisticRegression(max_iter=1000),\n",
    "        'params': {\n",
    "            'C': uniform(0.01, 10),\n",
    "            'penalty': ['l2'],\n",
    "            'solver': ['lbfgs']\n",
    "        }\n",
    "    },\n",
    "    'KNN': {\n",
    "        'model': KNeighborsClassifier(),\n",
    "        'params': {\n",
    "            'n_neighbors': randint(3, 20),\n",
    "            'weights': ['uniform', 'distance'],\n",
    "            'metric': ['euclidean', 'manhattan']\n",
    "        }\n",
    "    },\n",
    "    'Decision Tree': {\n",
    "        'model': DecisionTreeClassifier(),\n",
    "        'params': {\n",
    "            'criterion': ['gini', 'entropy'],\n",
    "            'max_depth': randint(5, 30),\n",
    "            'min_samples_split': randint(2, 10)\n",
    "        }\n",
    "    },\n",
    "    'Random Forest': {\n",
    "        'model': RandomForestClassifier(),\n",
    "        'params': {\n",
    "            'n_estimators': randint(50, 200),\n",
    "            'criterion': ['gini', 'entropy'],\n",
    "            'max_depth': randint(5, 30),\n",
    "            'min_samples_split': randint(2, 10)\n",
    "        }\n",
    "    }\n",
    "}\n"
   ]
  },
  {
   "cell_type": "code",
   "execution_count": 7,
   "id": "3433e6d1",
   "metadata": {},
   "outputs": [
    {
     "name": "stdout",
     "output_type": "stream",
     "text": [
      "\n",
      "Logistic Regression - Hyperparameter Tuning\n",
      "Fitting 3 folds for each of 20 candidates, totalling 60 fits\n",
      "Best Parameters: {'C': 2.1333911067827613, 'penalty': 'l2', 'solver': 'lbfgs'}\n",
      "Classification Report:\n",
      "              precision    recall  f1-score   support\n",
      "\n",
      "           0     0.9994    0.9998    0.9996     85307\n",
      "           1     0.8384    0.6103    0.7064       136\n",
      "\n",
      "    accuracy                         0.9992     85443\n",
      "   macro avg     0.9189    0.8051    0.8530     85443\n",
      "weighted avg     0.9991    0.9992    0.9991     85443\n",
      "\n",
      "Confusion Matrix:\n",
      "[[85291    16]\n",
      " [   53    83]]\n",
      "\n",
      "KNN - Hyperparameter Tuning\n",
      "Fitting 3 folds for each of 20 candidates, totalling 60 fits\n",
      "Best Parameters: {'metric': 'manhattan', 'n_neighbors': 3, 'weights': 'distance'}\n",
      "Classification Report:\n",
      "              precision    recall  f1-score   support\n",
      "\n",
      "           0     0.9988    1.0000    0.9994     85307\n",
      "           1     1.0000    0.2647    0.4186       136\n",
      "\n",
      "    accuracy                         0.9988     85443\n",
      "   macro avg     0.9994    0.6324    0.7090     85443\n",
      "weighted avg     0.9988    0.9988    0.9985     85443\n",
      "\n",
      "Confusion Matrix:\n",
      "[[85307     0]\n",
      " [  100    36]]\n",
      "\n",
      "Decision Tree - Hyperparameter Tuning\n",
      "Fitting 3 folds for each of 20 candidates, totalling 60 fits\n",
      "Best Parameters: {'criterion': 'entropy', 'max_depth': 7, 'min_samples_split': 7}\n",
      "Classification Report:\n",
      "              precision    recall  f1-score   support\n",
      "\n",
      "           0     0.9997    0.9998    0.9997     85307\n",
      "           1     0.8843    0.7868    0.8327       136\n",
      "\n",
      "    accuracy                         0.9995     85443\n",
      "   macro avg     0.9420    0.8933    0.9162     85443\n",
      "weighted avg     0.9995    0.9995    0.9995     85443\n",
      "\n",
      "Confusion Matrix:\n",
      "[[85293    14]\n",
      " [   29   107]]\n",
      "\n",
      "Random Forest - Hyperparameter Tuning\n",
      "Fitting 3 folds for each of 20 candidates, totalling 60 fits\n",
      "Best Parameters: {'criterion': 'entropy', 'max_depth': 13, 'min_samples_split': 3, 'n_estimators': 102}\n",
      "Classification Report:\n",
      "              precision    recall  f1-score   support\n",
      "\n",
      "           0     0.9997    0.9999    0.9998     85307\n",
      "           1     0.9417    0.8309    0.8828       136\n",
      "\n",
      "    accuracy                         0.9996     85443\n",
      "   macro avg     0.9707    0.9154    0.9413     85443\n",
      "weighted avg     0.9996    0.9996    0.9996     85443\n",
      "\n",
      "Confusion Matrix:\n",
      "[[85300     7]\n",
      " [   23   113]]\n"
     ]
    }
   ],
   "source": [
    "for name, mp in models_params.items():\n",
    "    print(f\"\\n{name} - Hyperparameter Tuning\")\n",
    "    rand_search = RandomizedSearchCV(\n",
    "        estimator=mp['model'],\n",
    "        param_distributions=mp['params'],\n",
    "        n_iter=20,\n",
    "        cv=3,\n",
    "        scoring='f1',\n",
    "        verbose=1,\n",
    "        n_jobs=-1,\n",
    "        random_state=42\n",
    "    )\n",
    "    rand_search.fit(X_train, y_train)\n",
    "    \n",
    "    print(\"Best Parameters:\", rand_search.best_params_)\n",
    "\n",
    "    y_pred = rand_search.predict(X_test)\n",
    "    print(\"Classification Report:\")\n",
    "    print(classification_report(y_test, y_pred, digits=4))\n",
    "    print(\"Confusion Matrix:\")\n",
    "    print(confusion_matrix(y_test, y_pred))"
   ]
  }
 ],
 "metadata": {
  "kernelspec": {
   "display_name": "Python 3 (ipykernel)",
   "language": "python",
   "name": "python3"
  },
  "language_info": {
   "codemirror_mode": {
    "name": "ipython",
    "version": 3
   },
   "file_extension": ".py",
   "mimetype": "text/x-python",
   "name": "python",
   "nbconvert_exporter": "python",
   "pygments_lexer": "ipython3",
   "version": "3.10.9"
  }
 },
 "nbformat": 4,
 "nbformat_minor": 5
}

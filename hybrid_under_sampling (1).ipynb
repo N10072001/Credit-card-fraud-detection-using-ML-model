{
 "cells": [
  {
   "cell_type": "code",
   "execution_count": 1,
   "id": "f5ff56ac",
   "metadata": {},
   "outputs": [],
   "source": [
    "import numpy as np\n",
    "import pandas as pd\n",
    "from sklearn.linear_model import LogisticRegression\n",
    "from sklearn.model_selection import train_test_split\n",
    "from collections import Counter\n",
    "from sklearn.metrics import accuracy_score, precision_score, recall_score, f1_score, classification_report\n",
    "from sklearn.metrics import classification_report, accuracy_score, confusion_matrix"
   ]
  },
  {
   "cell_type": "code",
   "execution_count": 2,
   "id": "769fe663",
   "metadata": {},
   "outputs": [],
   "source": [
    "credit_card_data=pd.read_csv(\"creditcard.csv.zip\")"
   ]
  },
  {
   "cell_type": "code",
   "execution_count": 3,
   "id": "ee524ce0",
   "metadata": {},
   "outputs": [
    {
     "name": "stdout",
     "output_type": "stream",
     "text": [
      "(284807, 30) (227845, 30) (56962, 30)\n"
     ]
    }
   ],
   "source": [
    "x=credit_card_data.drop(columns='Class',axis=1)\n",
    "y=credit_card_data['Class']\n",
    "x_train, x_test, y_train, y_test = train_test_split(x, y, test_size=0.2, random_state=2)\n",
    "\n",
    "print(x.shape,x_train.shape,x_test.shape)"
   ]
  },
  {
   "cell_type": "code",
   "execution_count": 11,
   "id": "9419bb99",
   "metadata": {},
   "outputs": [
    {
     "name": "stdout",
     "output_type": "stream",
     "text": [
      "Before SMOTEENN Sampling: 0    227437\n",
      "1       408\n",
      "Name: Class, dtype: int64\n",
      "After SMOTEENN Sampling: 1    219210\n",
      "0    210120\n",
      "Name: Class, dtype: int64\n"
     ]
    }
   ],
   "source": [
    "from imblearn.combine import SMOTEENN\n",
    "from imblearn.over_sampling import SMOTE\n",
    "smote_enn = SMOTEENN(smote=SMOTE(random_state=42), random_state=42)\n",
    "x_train_SMOTEENN, y_train_SMOTEENN = smote_enn.fit_resample(x_train, y_train)\n",
    "print(\"Before SMOTEENN Sampling:\", y_train.value_counts())\n",
    "print(\"After SMOTEENN Sampling:\", pd.Series(y_train_SMOTEENN).value_counts())"
   ]
  },
  {
   "cell_type": "code",
   "execution_count": 12,
   "id": "8efcba43",
   "metadata": {},
   "outputs": [
    {
     "name": "stdout",
     "output_type": "stream",
     "text": [
      "Before SMOTETomek Sampling: 0    227437\n",
      "1       408\n",
      "Name: Class, dtype: int64\n",
      "After SMOTETomek Sampling: 0    226875\n",
      "1    226875\n",
      "Name: Class, dtype: int64\n"
     ]
    }
   ],
   "source": [
    "from imblearn.combine import SMOTETomek\n",
    "from imblearn.over_sampling import SMOTE\n",
    "smote_tomek = SMOTETomek(smote=SMOTE(random_state=42), random_state=42)\n",
    "x_train_SMOTETomek, y_train_SMOTETomek = smote_tomek.fit_resample(x_train, y_train)\n",
    "print(\"Before SMOTETomek Sampling:\", y_train.value_counts())\n",
    "print(\"After SMOTETomek Sampling:\", pd.Series(y_train_SMOTETomek).value_counts())"
   ]
  },
  {
   "cell_type": "code",
   "execution_count": 13,
   "id": "7125af04",
   "metadata": {},
   "outputs": [
    {
     "name": "stdout",
     "output_type": "stream",
     "text": [
      "Confusion Matrix:\n",
      " [[55096  1782]\n",
      " [   10    74]]\n",
      "Classification Report:\n",
      "               precision    recall  f1-score   support\n",
      "\n",
      "           0       1.00      0.97      0.98     56878\n",
      "           1       0.04      0.88      0.08        84\n",
      "\n",
      "    accuracy                           0.97     56962\n",
      "   macro avg       0.52      0.92      0.53     56962\n",
      "weighted avg       1.00      0.97      0.98     56962\n",
      "\n",
      "Accuracy Score: 0.9685404304624136\n"
     ]
    }
   ],
   "source": [
    "logistic_model = LogisticRegression(random_state=42)\n",
    "logistic_model.fit(x_train_SMOTETomek, y_train_SMOTETomek)\n",
    "y_pred = logistic_model.predict(x_test)\n",
    "print(\"Confusion Matrix:\\n\", confusion_matrix(y_test, y_pred))\n",
    "print(\"Classification Report:\\n\", classification_report(y_test, y_pred))\n",
    "print(\"Accuracy Score:\", accuracy_score(y_test, y_pred))"
   ]
  },
  {
   "cell_type": "code",
   "execution_count": 14,
   "id": "e1fc15a8",
   "metadata": {},
   "outputs": [
    {
     "name": "stdout",
     "output_type": "stream",
     "text": [
      "Confusion Matrix:\n",
      " [[56759   119]\n",
      " [   17    67]]\n",
      "Classification Report:\n",
      "               precision    recall  f1-score   support\n",
      "\n",
      "           0       1.00      1.00      1.00     56878\n",
      "           1       0.36      0.80      0.50        84\n",
      "\n",
      "    accuracy                           1.00     56962\n",
      "   macro avg       0.68      0.90      0.75     56962\n",
      "weighted avg       1.00      1.00      1.00     56962\n",
      "\n",
      "Accuracy Score: 0.9976124433833081\n"
     ]
    }
   ],
   "source": [
    "from sklearn.tree import DecisionTreeClassifier\n",
    "decision_tree = DecisionTreeClassifier(random_state=42)\n",
    "decision_tree.fit(x_train_SMOTETomek, y_train_SMOTETomek)\n",
    "y_pred = decision_tree.predict(x_test)\n",
    "print(\"Confusion Matrix:\\n\", confusion_matrix(y_test, y_pred))\n",
    "print(\"Classification Report:\\n\", classification_report(y_test, y_pred))\n",
    "print(\"Accuracy Score:\", accuracy_score(y_test, y_pred))"
   ]
  },
  {
   "cell_type": "code",
   "execution_count": 15,
   "id": "2daf1fe4",
   "metadata": {},
   "outputs": [
    {
     "name": "stdout",
     "output_type": "stream",
     "text": [
      "Confusion Matrix:\n",
      " [[53850  3028]\n",
      " [   30    54]]\n",
      "Classification Report:\n",
      "               precision    recall  f1-score   support\n",
      "\n",
      "           0       1.00      0.95      0.97     56878\n",
      "           1       0.02      0.64      0.03        84\n",
      "\n",
      "    accuracy                           0.95     56962\n",
      "   macro avg       0.51      0.79      0.50     56962\n",
      "weighted avg       1.00      0.95      0.97     56962\n",
      "\n",
      "Accuracy Score: 0.9463150872511499\n"
     ]
    }
   ],
   "source": [
    "from sklearn.neighbors import KNeighborsClassifier\n",
    "knn = KNeighborsClassifier(n_neighbors=5) \n",
    "knn.fit(x_train_SMOTETomek, y_train_SMOTETomek)\n",
    "y_pred = knn.predict(x_test)\n",
    "print(\"Confusion Matrix:\\n\", confusion_matrix(y_test, y_pred))\n",
    "print(\"Classification Report:\\n\", classification_report(y_test, y_pred))\n",
    "print(\"Accuracy Score:\", accuracy_score(y_test, y_pred))"
   ]
  },
  {
   "cell_type": "code",
   "execution_count": 16,
   "id": "73fc9d0a",
   "metadata": {},
   "outputs": [
    {
     "name": "stdout",
     "output_type": "stream",
     "text": [
      "Confusion Matrix:\n",
      " [[56868    10]\n",
      " [   12    72]]\n",
      "Classification Report:\n",
      "               precision    recall  f1-score   support\n",
      "\n",
      "           0       1.00      1.00      1.00     56878\n",
      "           1       0.88      0.86      0.87        84\n",
      "\n",
      "    accuracy                           1.00     56962\n",
      "   macro avg       0.94      0.93      0.93     56962\n",
      "weighted avg       1.00      1.00      1.00     56962\n",
      "\n",
      "Accuracy Score: 0.9996137776061234\n"
     ]
    }
   ],
   "source": [
    "from sklearn.ensemble import RandomForestClassifier\n",
    "random_forest = RandomForestClassifier(random_state=42, n_estimators=100)\n",
    "random_forest.fit(x_train_SMOTETomek, y_train_SMOTETomek)\n",
    "y_pred = random_forest.predict(x_test)\n",
    "print(\"Confusion Matrix:\\n\", confusion_matrix(y_test, y_pred))\n",
    "print(\"Classification Report:\\n\", classification_report(y_test, y_pred))\n",
    "print(\"Accuracy Score:\", accuracy_score(y_test, y_pred))"
   ]
  },
  {
   "cell_type": "code",
   "execution_count": 17,
   "id": "8e6bfa6e",
   "metadata": {},
   "outputs": [
    {
     "name": "stdout",
     "output_type": "stream",
     "text": [
      "Confusion Matrix:\n",
      " [[55500  1378]\n",
      " [    8    76]]\n",
      "Classification Report:\n",
      "               precision    recall  f1-score   support\n",
      "\n",
      "           0       1.00      0.98      0.99     56878\n",
      "           1       0.05      0.90      0.10        84\n",
      "\n",
      "    accuracy                           0.98     56962\n",
      "   macro avg       0.53      0.94      0.54     56962\n",
      "weighted avg       1.00      0.98      0.99     56962\n",
      "\n",
      "Accuracy Score: 0.975667989185773\n"
     ]
    },
    {
     "name": "stderr",
     "output_type": "stream",
     "text": [
      "C:\\ProgramData\\anaconda3\\lib\\site-packages\\sklearn\\linear_model\\_logistic.py:458: ConvergenceWarning: lbfgs failed to converge (status=1):\n",
      "STOP: TOTAL NO. of ITERATIONS REACHED LIMIT.\n",
      "\n",
      "Increase the number of iterations (max_iter) or scale the data as shown in:\n",
      "    https://scikit-learn.org/stable/modules/preprocessing.html\n",
      "Please also refer to the documentation for alternative solver options:\n",
      "    https://scikit-learn.org/stable/modules/linear_model.html#logistic-regression\n",
      "  n_iter_i = _check_optimize_result(\n"
     ]
    }
   ],
   "source": [
    "logistic_model = LogisticRegression(random_state=42)\n",
    "logistic_model.fit(x_train_SMOTEENN, y_train_SMOTEENN)\n",
    "y_pred = logistic_model.predict(x_test)\n",
    "print(\"Confusion Matrix:\\n\", confusion_matrix(y_test, y_pred))\n",
    "print(\"Classification Report:\\n\", classification_report(y_test, y_pred))\n",
    "print(\"Accuracy Score:\", accuracy_score(y_test, y_pred))"
   ]
  },
  {
   "cell_type": "code",
   "execution_count": 18,
   "id": "fcf77f83",
   "metadata": {},
   "outputs": [
    {
     "name": "stdout",
     "output_type": "stream",
     "text": [
      "Confusion Matrix:\n",
      " [[56778   100]\n",
      " [   17    67]]\n",
      "Classification Report:\n",
      "               precision    recall  f1-score   support\n",
      "\n",
      "           0       1.00      1.00      1.00     56878\n",
      "           1       0.40      0.80      0.53        84\n",
      "\n",
      "    accuracy                           1.00     56962\n",
      "   macro avg       0.70      0.90      0.77     56962\n",
      "weighted avg       1.00      1.00      1.00     56962\n",
      "\n",
      "Accuracy Score: 0.9979459990871107\n"
     ]
    }
   ],
   "source": [
    "from sklearn.tree import DecisionTreeClassifier\n",
    "decision_tree = DecisionTreeClassifier(random_state=42)\n",
    "decision_tree.fit(x_train_SMOTEENN, y_train_SMOTEENN)\n",
    "y_pred = decision_tree.predict(x_test)\n",
    "print(\"Confusion Matrix:\\n\", confusion_matrix(y_test, y_pred))\n",
    "print(\"Classification Report:\\n\", classification_report(y_test, y_pred))\n",
    "print(\"Accuracy Score:\", accuracy_score(y_test, y_pred))"
   ]
  },
  {
   "cell_type": "code",
   "execution_count": 19,
   "id": "847e3799",
   "metadata": {},
   "outputs": [
    {
     "name": "stdout",
     "output_type": "stream",
     "text": [
      "Confusion Matrix:\n",
      " [[52680  4198]\n",
      " [   30    54]]\n",
      "Classification Report:\n",
      "               precision    recall  f1-score   support\n",
      "\n",
      "           0       1.00      0.93      0.96     56878\n",
      "           1       0.01      0.64      0.02        84\n",
      "\n",
      "    accuracy                           0.93     56962\n",
      "   macro avg       0.51      0.78      0.49     56962\n",
      "weighted avg       1.00      0.93      0.96     56962\n",
      "\n",
      "Accuracy Score: 0.9257750781222569\n"
     ]
    }
   ],
   "source": [
    "from sklearn.neighbors import KNeighborsClassifier\n",
    "knn = KNeighborsClassifier(n_neighbors=5) \n",
    "knn.fit(x_train_SMOTEENN, y_train_SMOTEENN)\n",
    "y_pred = knn.predict(x_test)\n",
    "print(\"Confusion Matrix:\\n\", confusion_matrix(y_test, y_pred))\n",
    "print(\"Classification Report:\\n\", classification_report(y_test, y_pred))\n",
    "print(\"Accuracy Score:\", accuracy_score(y_test, y_pred))"
   ]
  },
  {
   "cell_type": "code",
   "execution_count": 20,
   "id": "489b1006",
   "metadata": {},
   "outputs": [
    {
     "name": "stdout",
     "output_type": "stream",
     "text": [
      "Confusion Matrix:\n",
      " [[56865    13]\n",
      " [   11    73]]\n",
      "Classification Report:\n",
      "               precision    recall  f1-score   support\n",
      "\n",
      "           0       1.00      1.00      1.00     56878\n",
      "           1       0.85      0.87      0.86        84\n",
      "\n",
      "    accuracy                           1.00     56962\n",
      "   macro avg       0.92      0.93      0.93     56962\n",
      "weighted avg       1.00      1.00      1.00     56962\n",
      "\n",
      "Accuracy Score: 0.9995786664794073\n"
     ]
    }
   ],
   "source": [
    "from sklearn.ensemble import RandomForestClassifier\n",
    "random_forest = RandomForestClassifier(random_state=42, n_estimators=100)\n",
    "random_forest.fit(x_train_SMOTEENN, y_train_SMOTEENN)\n",
    "y_pred = random_forest.predict(x_test)\n",
    "print(\"Confusion Matrix:\\n\", confusion_matrix(y_test, y_pred))\n",
    "print(\"Classification Report:\\n\", classification_report(y_test, y_pred))\n",
    "print(\"Accuracy Score:\", accuracy_score(y_test, y_pred))"
   ]
  },
  {
   "cell_type": "code",
   "execution_count": null,
   "id": "75098135",
   "metadata": {},
   "outputs": [],
   "source": []
  }
 ],
 "metadata": {
  "kernelspec": {
   "display_name": "Python 3 (ipykernel)",
   "language": "python",
   "name": "python3"
  },
  "language_info": {
   "codemirror_mode": {
    "name": "ipython",
    "version": 3
   },
   "file_extension": ".py",
   "mimetype": "text/x-python",
   "name": "python",
   "nbconvert_exporter": "python",
   "pygments_lexer": "ipython3",
   "version": "3.10.9"
  }
 },
 "nbformat": 4,
 "nbformat_minor": 5
}

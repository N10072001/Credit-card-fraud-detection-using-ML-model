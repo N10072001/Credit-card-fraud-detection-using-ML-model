{
 "cells": [
  {
   "cell_type": "code",
   "execution_count": 2,
   "id": "fdf0effa",
   "metadata": {},
   "outputs": [],
   "source": [
    "import numpy as np\n",
    "import pandas as pd\n",
    "from sklearn.linear_model import LogisticRegression\n",
    "from sklearn.model_selection import train_test_split\n",
    "from imblearn.over_sampling import SMOTE\n",
    "from imblearn.over_sampling import BorderlineSMOTE\n",
    "from imblearn.over_sampling import SVMSMOTE\n",
    "from imblearn.over_sampling import ADASYN\n",
    "from imblearn.over_sampling import RandomOverSampler\n",
    "from collections import Counter\n",
    "from sklearn.metrics import accuracy_score, precision_score, recall_score, f1_score, classification_report\n",
    "from sklearn.metrics import classification_report, accuracy_score, confusion_matrix"
   ]
  },
  {
   "cell_type": "code",
   "execution_count": 3,
   "id": "a26dee65",
   "metadata": {},
   "outputs": [],
   "source": [
    "credit_card_data=pd.read_csv(\"creditcard.csv.zip\")"
   ]
  },
  {
   "cell_type": "code",
   "execution_count": 4,
   "id": "1f3b9838",
   "metadata": {},
   "outputs": [
    {
     "name": "stdout",
     "output_type": "stream",
     "text": [
      "(284807, 30) (227845, 30) (56962, 30)\n"
     ]
    }
   ],
   "source": [
    "x=credit_card_data.drop(columns='Class',axis=1)\n",
    "y=credit_card_data['Class']\n",
    "x_train, x_test, y_train, y_test = train_test_split(x, y, test_size=0.2, random_state=2)\n",
    "\n",
    "print(x.shape,x_train.shape,x_test.shape)\n"
   ]
  },
  {
   "cell_type": "code",
   "execution_count": 15,
   "id": "dcdd467f",
   "metadata": {},
   "outputs": [
    {
     "name": "stdout",
     "output_type": "stream",
     "text": [
      "Before Borderline-SMOTE: 0    227437\n",
      "1       408\n",
      "Name: Class, dtype: int64\n",
      "After Borderline-SMOTE: 0    227437\n",
      "1    227437\n",
      "Name: Class, dtype: int64\n"
     ]
    }
   ],
   "source": [
    "borderline_smote = BorderlineSMOTE(random_state=42, kind='borderline-1')  \n",
    "x_train_Bsmote, y_train_Bsmote = borderline_smote.fit_resample(x_train, y_train)\n",
    "print(\"Before Borderline-SMOTE:\", y_train.value_counts())\n",
    "print(\"After Borderline-SMOTE:\", pd.Series(y_train_Bsmote).value_counts())"
   ]
  },
  {
   "cell_type": "code",
   "execution_count": 5,
   "id": "7c2ad6f5",
   "metadata": {},
   "outputs": [
    {
     "name": "stdout",
     "output_type": "stream",
     "text": [
      "Before Oversampling: 0    227437\n",
      "1       408\n",
      "Name: Class, dtype: int64\n",
      "After Oversampling: 0    227437\n",
      "1    227437\n",
      "Name: Class, dtype: int64\n"
     ]
    }
   ],
   "source": [
    "random_oversampler = RandomOverSampler(random_state=42)\n",
    "x_train_oversampled, y_train_oversampled = random_oversampler.fit_resample(x_train, y_train)\n",
    "print(\"Before Oversampling:\", y_train.value_counts())\n",
    "print(\"After Oversampling:\", pd.Series(y_train_oversampled).value_counts())"
   ]
  },
  {
   "cell_type": "code",
   "execution_count": 5,
   "id": "29b147f3",
   "metadata": {},
   "outputs": [
    {
     "name": "stdout",
     "output_type": "stream",
     "text": [
      "Before SVM-SMOTE: 0    227437\n",
      "1       408\n",
      "Name: Class, dtype: int64\n",
      "After SVM-SMOTE: 0    227437\n",
      "1    227437\n",
      "Name: Class, dtype: int64\n"
     ]
    }
   ],
   "source": [
    "svm_smote = SVMSMOTE(random_state=42)\n",
    "x_train_SVsmote, y_train_SVsmote = svm_smote.fit_resample(x_train, y_train)\n",
    "print(\"Before SVM-SMOTE:\", y_train.value_counts())\n",
    "print(\"After SVM-SMOTE:\", pd.Series(y_train_SVsmote).value_counts())"
   ]
  },
  {
   "cell_type": "code",
   "execution_count": 8,
   "id": "3978b0db",
   "metadata": {},
   "outputs": [
    {
     "name": "stdout",
     "output_type": "stream",
     "text": [
      "Before ADASYN: 0    227437\n",
      "1       408\n",
      "Name: Class, dtype: int64\n",
      "After ADASYN: 0    227437\n",
      "1    227312\n",
      "Name: Class, dtype: int64\n"
     ]
    }
   ],
   "source": [
    "adasyn = ADASYN(random_state=42)\n",
    "x_train_adasyn, y_train_adasyn = adasyn.fit_resample(x_train, y_train)\n",
    "print(\"Before ADASYN:\", y_train.value_counts())\n",
    "print(\"After ADASYN:\", pd.Series(y_train_adasyn).value_counts())"
   ]
  },
  {
   "cell_type": "code",
   "execution_count": 21,
   "id": "cd5b7ae3",
   "metadata": {},
   "outputs": [
    {
     "name": "stdout",
     "output_type": "stream",
     "text": [
      "Before SMOTE: 0    227437\n",
      "1       408\n",
      "Name: Class, dtype: int64\n",
      "After SMOTE: 0    227437\n",
      "1    227437\n",
      "Name: Class, dtype: int64\n",
      "Confusion Matrix:\n",
      " [[55931   947]\n",
      " [    8    76]]\n",
      "Classification Report:\n",
      "               precision    recall  f1-score   support\n",
      "\n",
      "           0       1.00      0.98      0.99     56878\n",
      "           1       0.07      0.90      0.14        84\n",
      "\n",
      "    accuracy                           0.98     56962\n",
      "   macro avg       0.54      0.94      0.56     56962\n",
      "weighted avg       1.00      0.98      0.99     56962\n",
      "\n",
      "Accuracy Score: 0.9832344369930831\n"
     ]
    }
   ],
   "source": [
    "smote = SMOTE(random_state=42)\n",
    "x_train_smote, y_train_smote = smote.fit_resample(x_train, y_train)\n",
    "print(\"Before SMOTE:\", y_train.value_counts())\n",
    "print(\"After SMOTE:\", pd.Series(y_train_smote).value_counts())\n",
    "logistic_model = LogisticRegression(random_state=42)\n",
    "logistic_model.fit(x_train_smote, y_train_smote)\n",
    "y_pred = logistic_model.predict(x_test)\n",
    "print(\"Confusion Matrix:\\n\", confusion_matrix(y_test, y_pred))\n",
    "print(\"Classification Report:\\n\", classification_report(y_test, y_pred))\n",
    "print(\"Accuracy Score:\", accuracy_score(y_test, y_pred))"
   ]
  },
  {
   "cell_type": "code",
   "execution_count": 28,
   "id": "2af30114",
   "metadata": {},
   "outputs": [
    {
     "name": "stdout",
     "output_type": "stream",
     "text": [
      "Confusion Matrix:\n",
      " [[54844  2034]\n",
      " [    9    75]]\n",
      "Classification Report:\n",
      "               precision    recall  f1-score   support\n",
      "\n",
      "           0       1.00      0.96      0.98     56878\n",
      "           1       0.04      0.89      0.07        84\n",
      "\n",
      "    accuracy                           0.96     56962\n",
      "   macro avg       0.52      0.93      0.53     56962\n",
      "weighted avg       1.00      0.96      0.98     56962\n",
      "\n",
      "Accuracy Score: 0.9641339840595484\n"
     ]
    }
   ],
   "source": [
    "logistic_model = LogisticRegression(random_state=42)\n",
    "logistic_model.fit(x_train_oversampled, y_train_oversampled)\n",
    "y_pred = logistic_model.predict(x_test)\n",
    "print(\"Confusion Matrix:\\n\", confusion_matrix(y_test, y_pred))\n",
    "print(\"Classification Report:\\n\", classification_report(y_test, y_pred))\n",
    "print(\"Accuracy Score:\", accuracy_score(y_test, y_pred))"
   ]
  },
  {
   "cell_type": "code",
   "execution_count": 6,
   "id": "e837eb8e",
   "metadata": {},
   "outputs": [
    {
     "name": "stdout",
     "output_type": "stream",
     "text": [
      "Confusion Matrix:\n",
      " [[56456   422]\n",
      " [   10    74]]\n",
      "Classification Report:\n",
      "               precision    recall  f1-score   support\n",
      "\n",
      "           0       1.00      0.99      1.00     56878\n",
      "           1       0.15      0.88      0.26        84\n",
      "\n",
      "    accuracy                           0.99     56962\n",
      "   macro avg       0.57      0.94      0.63     56962\n",
      "weighted avg       1.00      0.99      1.00     56962\n",
      "\n",
      "Accuracy Score: 0.9924159966293319\n"
     ]
    },
    {
     "name": "stderr",
     "output_type": "stream",
     "text": [
      "C:\\ProgramData\\anaconda3\\lib\\site-packages\\sklearn\\linear_model\\_logistic.py:458: ConvergenceWarning: lbfgs failed to converge (status=1):\n",
      "STOP: TOTAL NO. of ITERATIONS REACHED LIMIT.\n",
      "\n",
      "Increase the number of iterations (max_iter) or scale the data as shown in:\n",
      "    https://scikit-learn.org/stable/modules/preprocessing.html\n",
      "Please also refer to the documentation for alternative solver options:\n",
      "    https://scikit-learn.org/stable/modules/linear_model.html#logistic-regression\n",
      "  n_iter_i = _check_optimize_result(\n"
     ]
    }
   ],
   "source": [
    "logistic_model = LogisticRegression(random_state=42)\n",
    "logistic_model.fit(x_train_SVsmote, y_train_SVsmote)\n",
    "y_pred = logistic_model.predict(x_test)\n",
    "print(\"Confusion Matrix:\\n\", confusion_matrix(y_test, y_pred))\n",
    "print(\"Classification Report:\\n\", classification_report(y_test, y_pred))\n",
    "print(\"Accuracy Score:\", accuracy_score(y_test, y_pred))"
   ]
  },
  {
   "cell_type": "code",
   "execution_count": 9,
   "id": "8a4371dc",
   "metadata": {},
   "outputs": [
    {
     "name": "stdout",
     "output_type": "stream",
     "text": [
      "Confusion Matrix:\n",
      " [[55900   978]\n",
      " [    8    76]]\n",
      "Classification Report:\n",
      "               precision    recall  f1-score   support\n",
      "\n",
      "           0       1.00      0.98      0.99     56878\n",
      "           1       0.07      0.90      0.13        84\n",
      "\n",
      "    accuracy                           0.98     56962\n",
      "   macro avg       0.54      0.94      0.56     56962\n",
      "weighted avg       1.00      0.98      0.99     56962\n",
      "\n",
      "Accuracy Score: 0.9826902145289842\n"
     ]
    },
    {
     "name": "stderr",
     "output_type": "stream",
     "text": [
      "C:\\ProgramData\\anaconda3\\lib\\site-packages\\sklearn\\linear_model\\_logistic.py:458: ConvergenceWarning: lbfgs failed to converge (status=1):\n",
      "STOP: TOTAL NO. of ITERATIONS REACHED LIMIT.\n",
      "\n",
      "Increase the number of iterations (max_iter) or scale the data as shown in:\n",
      "    https://scikit-learn.org/stable/modules/preprocessing.html\n",
      "Please also refer to the documentation for alternative solver options:\n",
      "    https://scikit-learn.org/stable/modules/linear_model.html#logistic-regression\n",
      "  n_iter_i = _check_optimize_result(\n"
     ]
    }
   ],
   "source": [
    "logistic_model = LogisticRegression(random_state=42)\n",
    "logistic_model.fit(x_train_adasyn, y_train_adasyn)\n",
    "y_pred = logistic_model.predict(x_test)\n",
    "print(\"Confusion Matrix:\\n\", confusion_matrix(y_test, y_pred))\n",
    "print(\"Classification Report:\\n\", classification_report(y_test, y_pred))\n",
    "print(\"Accuracy Score:\", accuracy_score(y_test, y_pred))"
   ]
  },
  {
   "cell_type": "code",
   "execution_count": 10,
   "id": "bff0b9bf",
   "metadata": {},
   "outputs": [
    {
     "name": "stdout",
     "output_type": "stream",
     "text": [
      "Confusion Matrix:\n",
      " [[56105   773]\n",
      " [    9    75]]\n",
      "Classification Report:\n",
      "               precision    recall  f1-score   support\n",
      "\n",
      "           0       1.00      0.99      0.99     56878\n",
      "           1       0.09      0.89      0.16        84\n",
      "\n",
      "    accuracy                           0.99     56962\n",
      "   macro avg       0.54      0.94      0.58     56962\n",
      "weighted avg       1.00      0.99      0.99     56962\n",
      "\n",
      "Accuracy Score: 0.986271549454022\n"
     ]
    }
   ],
   "source": [
    "logistic_model = LogisticRegression(random_state=42)\n",
    "logistic_model.fit(x_train_Bsmote, y_train_Bsmote)\n",
    "y_pred = logistic_model.predict(x_test)\n",
    "print(\"Confusion Matrix:\\n\", confusion_matrix(y_test, y_pred))\n",
    "print(\"Classification Report:\\n\", classification_report(y_test, y_pred))\n",
    "print(\"Accuracy Score:\", accuracy_score(y_test, y_pred))"
   ]
  },
  {
   "cell_type": "code",
   "execution_count": 18,
   "id": "129db1d9",
   "metadata": {},
   "outputs": [
    {
     "name": "stdout",
     "output_type": "stream",
     "text": [
      "Confusion Matrix:\n",
      " [[56847    31]\n",
      " [   17    67]]\n",
      "Classification Report:\n",
      "               precision    recall  f1-score   support\n",
      "\n",
      "           0       1.00      1.00      1.00     56878\n",
      "           1       0.68      0.80      0.74        84\n",
      "\n",
      "    accuracy                           1.00     56962\n",
      "   macro avg       0.84      0.90      0.87     56962\n",
      "weighted avg       1.00      1.00      1.00     56962\n",
      "\n",
      "Accuracy Score: 0.9991573329588147\n"
     ]
    }
   ],
   "source": [
    "from sklearn.tree import DecisionTreeClassifier\n",
    "decision_tree = DecisionTreeClassifier(random_state=42)\n",
    "decision_tree.fit(x_train_SVsmote, y_train_SVsmote)\n",
    "y_pred = decision_tree.predict(x_test)\n",
    "print(\"Confusion Matrix:\\n\", confusion_matrix(y_test, y_pred))\n",
    "print(\"Classification Report:\\n\", classification_report(y_test, y_pred))\n",
    "print(\"Accuracy Score:\", accuracy_score(y_test, y_pred))"
   ]
  },
  {
   "cell_type": "code",
   "execution_count": 29,
   "id": "1ff4cf10",
   "metadata": {},
   "outputs": [
    {
     "name": "stdout",
     "output_type": "stream",
     "text": [
      "Confusion Matrix:\n",
      " [[56850    28]\n",
      " [   23    61]]\n",
      "Classification Report:\n",
      "               precision    recall  f1-score   support\n",
      "\n",
      "           0       1.00      1.00      1.00     56878\n",
      "           1       0.69      0.73      0.71        84\n",
      "\n",
      "    accuracy                           1.00     56962\n",
      "   macro avg       0.84      0.86      0.85     56962\n",
      "weighted avg       1.00      1.00      1.00     56962\n",
      "\n",
      "Accuracy Score: 0.9991046662687406\n"
     ]
    }
   ],
   "source": [
    "from sklearn.tree import DecisionTreeClassifier\n",
    "decision_tree = DecisionTreeClassifier(random_state=42)\n",
    "decision_tree.fit(x_train_oversampled, y_train_oversampled)\n",
    "y_pred = decision_tree.predict(x_test)\n",
    "print(\"Confusion Matrix:\\n\", confusion_matrix(y_test, y_pred))\n",
    "print(\"Classification Report:\\n\", classification_report(y_test, y_pred))\n",
    "print(\"Accuracy Score:\", accuracy_score(y_test, y_pred))"
   ]
  },
  {
   "cell_type": "code",
   "execution_count": 19,
   "id": "10bd9705",
   "metadata": {},
   "outputs": [
    {
     "name": "stdout",
     "output_type": "stream",
     "text": [
      "Confusion Matrix:\n",
      " [[56784    94]\n",
      " [   14    70]]\n",
      "Classification Report:\n",
      "               precision    recall  f1-score   support\n",
      "\n",
      "           0       1.00      1.00      1.00     56878\n",
      "           1       0.43      0.83      0.56        84\n",
      "\n",
      "    accuracy                           1.00     56962\n",
      "   macro avg       0.71      0.92      0.78     56962\n",
      "weighted avg       1.00      1.00      1.00     56962\n",
      "\n",
      "Accuracy Score: 0.9981039991573329\n"
     ]
    }
   ],
   "source": [
    "from sklearn.tree import DecisionTreeClassifier\n",
    "decision_tree = DecisionTreeClassifier(random_state=42)\n",
    "decision_tree.fit(x_train_adasyn, y_train_adasyn)\n",
    "y_pred = decision_tree.predict(x_test)\n",
    "print(\"Confusion Matrix:\\n\", confusion_matrix(y_test, y_pred))\n",
    "print(\"Classification Report:\\n\", classification_report(y_test, y_pred))\n",
    "print(\"Accuracy Score:\", accuracy_score(y_test, y_pred))"
   ]
  },
  {
   "cell_type": "code",
   "execution_count": 22,
   "id": "0854625e",
   "metadata": {},
   "outputs": [
    {
     "name": "stdout",
     "output_type": "stream",
     "text": [
      "Confusion Matrix:\n",
      " [[56761   117]\n",
      " [   19    65]]\n",
      "Classification Report:\n",
      "               precision    recall  f1-score   support\n",
      "\n",
      "           0       1.00      1.00      1.00     56878\n",
      "           1       0.36      0.77      0.49        84\n",
      "\n",
      "    accuracy                           1.00     56962\n",
      "   macro avg       0.68      0.89      0.74     56962\n",
      "weighted avg       1.00      1.00      1.00     56962\n",
      "\n",
      "Accuracy Score: 0.9976124433833081\n"
     ]
    }
   ],
   "source": [
    "from sklearn.tree import DecisionTreeClassifier\n",
    "decision_tree = DecisionTreeClassifier(random_state=42)\n",
    "decision_tree.fit(x_train_smote, y_train_smote)\n",
    "y_pred = decision_tree.predict(x_test)\n",
    "print(\"Confusion Matrix:\\n\", confusion_matrix(y_test, y_pred))\n",
    "print(\"Classification Report:\\n\", classification_report(y_test, y_pred))\n",
    "print(\"Accuracy Score:\", accuracy_score(y_test, y_pred))"
   ]
  },
  {
   "cell_type": "code",
   "execution_count": 17,
   "id": "062ffb0d",
   "metadata": {},
   "outputs": [
    {
     "name": "stdout",
     "output_type": "stream",
     "text": [
      "Confusion Matrix:\n",
      " [[56848    30]\n",
      " [   16    68]]\n",
      "Classification Report:\n",
      "               precision    recall  f1-score   support\n",
      "\n",
      "           0       1.00      1.00      1.00     56878\n",
      "           1       0.69      0.81      0.75        84\n",
      "\n",
      "    accuracy                           1.00     56962\n",
      "   macro avg       0.85      0.90      0.87     56962\n",
      "weighted avg       1.00      1.00      1.00     56962\n",
      "\n",
      "Accuracy Score: 0.9991924440855307\n"
     ]
    }
   ],
   "source": [
    "from sklearn.tree import DecisionTreeClassifier\n",
    "decision_tree = DecisionTreeClassifier(random_state=42)\n",
    "decision_tree.fit(x_train_Bsmote, y_train_Bsmote)\n",
    "y_pred = decision_tree.predict(x_test)\n",
    "print(\"Confusion Matrix:\\n\", confusion_matrix(y_test, y_pred))\n",
    "print(\"Classification Report:\\n\", classification_report(y_test, y_pred))\n",
    "print(\"Accuracy Score:\", accuracy_score(y_test, y_pred))"
   ]
  },
  {
   "cell_type": "code",
   "execution_count": 23,
   "id": "46a670b3",
   "metadata": {},
   "outputs": [
    {
     "name": "stdout",
     "output_type": "stream",
     "text": [
      "Confusion Matrix:\n",
      " [[56649   229]\n",
      " [   60    24]]\n",
      "Classification Report:\n",
      "               precision    recall  f1-score   support\n",
      "\n",
      "           0       1.00      1.00      1.00     56878\n",
      "           1       0.09      0.29      0.14        84\n",
      "\n",
      "    accuracy                           0.99     56962\n",
      "   macro avg       0.55      0.64      0.57     56962\n",
      "weighted avg       1.00      0.99      1.00     56962\n",
      "\n",
      "Accuracy Score: 0.9949264421895299\n"
     ]
    }
   ],
   "source": [
    "from sklearn.neighbors import KNeighborsClassifier\n",
    "knn = KNeighborsClassifier(n_neighbors=5) \n",
    "knn.fit(x_train_Bsmote, y_train_Bsmote)\n",
    "y_pred = knn.predict(x_test)\n",
    "print(\"Confusion Matrix:\\n\", confusion_matrix(y_test, y_pred))\n",
    "print(\"Classification Report:\\n\", classification_report(y_test, y_pred))\n",
    "print(\"Accuracy Score:\", accuracy_score(y_test, y_pred))"
   ]
  },
  {
   "cell_type": "code",
   "execution_count": 30,
   "id": "f15d172f",
   "metadata": {},
   "outputs": [
    {
     "name": "stdout",
     "output_type": "stream",
     "text": [
      "Confusion Matrix:\n",
      " [[56794    84]\n",
      " [   59    25]]\n",
      "Classification Report:\n",
      "               precision    recall  f1-score   support\n",
      "\n",
      "           0       1.00      1.00      1.00     56878\n",
      "           1       0.23      0.30      0.26        84\n",
      "\n",
      "    accuracy                           1.00     56962\n",
      "   macro avg       0.61      0.65      0.63     56962\n",
      "weighted avg       1.00      1.00      1.00     56962\n",
      "\n",
      "Accuracy Score: 0.997489554439802\n"
     ]
    }
   ],
   "source": [
    "from sklearn.neighbors import KNeighborsClassifier\n",
    "knn = KNeighborsClassifier(n_neighbors=5) \n",
    "knn.fit(x_train_oversampled, y_train_oversampled)\n",
    "y_pred = knn.predict(x_test)\n",
    "print(\"Confusion Matrix:\\n\", confusion_matrix(y_test, y_pred))\n",
    "print(\"Classification Report:\\n\", classification_report(y_test, y_pred))\n",
    "print(\"Accuracy Score:\", accuracy_score(y_test, y_pred))"
   ]
  },
  {
   "cell_type": "code",
   "execution_count": 24,
   "id": "11d5abf7",
   "metadata": {},
   "outputs": [
    {
     "name": "stdout",
     "output_type": "stream",
     "text": [
      "Confusion Matrix:\n",
      " [[56662   216]\n",
      " [   60    24]]\n",
      "Classification Report:\n",
      "               precision    recall  f1-score   support\n",
      "\n",
      "           0       1.00      1.00      1.00     56878\n",
      "           1       0.10      0.29      0.15        84\n",
      "\n",
      "    accuracy                           1.00     56962\n",
      "   macro avg       0.55      0.64      0.57     56962\n",
      "weighted avg       1.00      1.00      1.00     56962\n",
      "\n",
      "Accuracy Score: 0.9951546645131842\n"
     ]
    }
   ],
   "source": [
    "from sklearn.neighbors import KNeighborsClassifier\n",
    "knn = KNeighborsClassifier(n_neighbors=5) \n",
    "knn.fit(x_train_SVsmote, y_train_SVsmote)\n",
    "y_pred = knn.predict(x_test)\n",
    "print(\"Confusion Matrix:\\n\", confusion_matrix(y_test, y_pred))\n",
    "print(\"Classification Report:\\n\", classification_report(y_test, y_pred))\n",
    "print(\"Accuracy Score:\", accuracy_score(y_test, y_pred))"
   ]
  },
  {
   "cell_type": "code",
   "execution_count": 25,
   "id": "4e15492a",
   "metadata": {},
   "outputs": [
    {
     "name": "stdout",
     "output_type": "stream",
     "text": [
      "Confusion Matrix:\n",
      " [[53764  3114]\n",
      " [   30    54]]\n",
      "Classification Report:\n",
      "               precision    recall  f1-score   support\n",
      "\n",
      "           0       1.00      0.95      0.97     56878\n",
      "           1       0.02      0.64      0.03        84\n",
      "\n",
      "    accuracy                           0.94     56962\n",
      "   macro avg       0.51      0.79      0.50     56962\n",
      "weighted avg       1.00      0.94      0.97     56962\n",
      "\n",
      "Accuracy Score: 0.9448053088023595\n"
     ]
    }
   ],
   "source": [
    "from sklearn.neighbors import KNeighborsClassifier\n",
    "knn = KNeighborsClassifier(n_neighbors=5) \n",
    "knn.fit(x_train_adasyn, y_train_adasyn)\n",
    "y_pred = knn.predict(x_test)\n",
    "print(\"Confusion Matrix:\\n\", confusion_matrix(y_test, y_pred))\n",
    "print(\"Classification Report:\\n\", classification_report(y_test, y_pred))\n",
    "print(\"Accuracy Score:\", accuracy_score(y_test, y_pred))"
   ]
  },
  {
   "cell_type": "code",
   "execution_count": 33,
   "id": "0a65a5a2",
   "metadata": {},
   "outputs": [
    {
     "name": "stdout",
     "output_type": "stream",
     "text": [
      "Confusion Matrix:\n",
      " [[53846  3032]\n",
      " [   30    54]]\n",
      "Classification Report:\n",
      "               precision    recall  f1-score   support\n",
      "\n",
      "           0       1.00      0.95      0.97     56878\n",
      "           1       0.02      0.64      0.03        84\n",
      "\n",
      "    accuracy                           0.95     56962\n",
      "   macro avg       0.51      0.79      0.50     56962\n",
      "weighted avg       1.00      0.95      0.97     56962\n",
      "\n",
      "Accuracy Score: 0.9462448649977178\n"
     ]
    }
   ],
   "source": [
    "from sklearn.neighbors import KNeighborsClassifier\n",
    "knn = KNeighborsClassifier(n_neighbors=5) \n",
    "knn.fit(x_train_smote, y_train_smote)\n",
    "y_pred = knn.predict(x_test)\n",
    "print(\"Confusion Matrix:\\n\", confusion_matrix(y_test, y_pred))\n",
    "print(\"Classification Report:\\n\", classification_report(y_test, y_pred))\n",
    "print(\"Accuracy Score:\", accuracy_score(y_test, y_pred))"
   ]
  },
  {
   "cell_type": "code",
   "execution_count": 34,
   "id": "31f55083",
   "metadata": {},
   "outputs": [
    {
     "name": "stdout",
     "output_type": "stream",
     "text": [
      "Confusion Matrix:\n",
      " [[56867    11]\n",
      " [   12    72]]\n",
      "Classification Report:\n",
      "               precision    recall  f1-score   support\n",
      "\n",
      "           0       1.00      1.00      1.00     56878\n",
      "           1       0.87      0.86      0.86        84\n",
      "\n",
      "    accuracy                           1.00     56962\n",
      "   macro avg       0.93      0.93      0.93     56962\n",
      "weighted avg       1.00      1.00      1.00     56962\n",
      "\n",
      "Accuracy Score: 0.9995962220427653\n"
     ]
    }
   ],
   "source": [
    "from sklearn.ensemble import RandomForestClassifier\n",
    "random_forest = RandomForestClassifier(random_state=42, n_estimators=100)\n",
    "random_forest.fit(x_train_smote, y_train_smote)\n",
    "y_pred = random_forest.predict(x_test)\n",
    "print(\"Confusion Matrix:\\n\", confusion_matrix(y_test, y_pred))\n",
    "print(\"Classification Report:\\n\", classification_report(y_test, y_pred))\n",
    "print(\"Accuracy Score:\", accuracy_score(y_test, y_pred))"
   ]
  },
  {
   "cell_type": "code",
   "execution_count": 31,
   "id": "76564f9d",
   "metadata": {},
   "outputs": [
    {
     "name": "stdout",
     "output_type": "stream",
     "text": [
      "Confusion Matrix:\n",
      " [[56873     5]\n",
      " [   14    70]]\n",
      "Classification Report:\n",
      "               precision    recall  f1-score   support\n",
      "\n",
      "           0       1.00      1.00      1.00     56878\n",
      "           1       0.93      0.83      0.88        84\n",
      "\n",
      "    accuracy                           1.00     56962\n",
      "   macro avg       0.97      0.92      0.94     56962\n",
      "weighted avg       1.00      1.00      1.00     56962\n",
      "\n",
      "Accuracy Score: 0.9996664442961974\n"
     ]
    }
   ],
   "source": [
    "from sklearn.ensemble import RandomForestClassifier\n",
    "random_forest = RandomForestClassifier(random_state=42, n_estimators=100)\n",
    "random_forest.fit(x_train_Bsmote, y_train_Bsmote)\n",
    "y_pred = random_forest.predict(x_test)\n",
    "print(\"Confusion Matrix:\\n\", confusion_matrix(y_test, y_pred))\n",
    "print(\"Classification Report:\\n\", classification_report(y_test, y_pred))\n",
    "print(\"Accuracy Score:\", accuracy_score(y_test, y_pred))"
   ]
  },
  {
   "cell_type": "code",
   "execution_count": 32,
   "id": "d0a7212e",
   "metadata": {},
   "outputs": [
    {
     "name": "stdout",
     "output_type": "stream",
     "text": [
      "Confusion Matrix:\n",
      " [[56873     5]\n",
      " [   13    71]]\n",
      "Classification Report:\n",
      "               precision    recall  f1-score   support\n",
      "\n",
      "           0       1.00      1.00      1.00     56878\n",
      "           1       0.93      0.85      0.89        84\n",
      "\n",
      "    accuracy                           1.00     56962\n",
      "   macro avg       0.97      0.92      0.94     56962\n",
      "weighted avg       1.00      1.00      1.00     56962\n",
      "\n",
      "Accuracy Score: 0.9996839998595555\n"
     ]
    }
   ],
   "source": [
    "from sklearn.ensemble import RandomForestClassifier\n",
    "random_forest = RandomForestClassifier(random_state=42, n_estimators=100)\n",
    "random_forest.fit(x_train_SVsmote, y_train_SVsmote)\n",
    "y_pred = random_forest.predict(x_test)\n",
    "print(\"Confusion Matrix:\\n\", confusion_matrix(y_test, y_pred))\n",
    "print(\"Classification Report:\\n\", classification_report(y_test, y_pred))\n",
    "print(\"Accuracy Score:\", accuracy_score(y_test, y_pred))"
   ]
  },
  {
   "cell_type": "code",
   "execution_count": 34,
   "id": "8570b859",
   "metadata": {},
   "outputs": [
    {
     "name": "stdout",
     "output_type": "stream",
     "text": [
      "Confusion Matrix:\n",
      " [[56869     9]\n",
      " [   12    72]]\n",
      "Classification Report:\n",
      "               precision    recall  f1-score   support\n",
      "\n",
      "           0       1.00      1.00      1.00     56878\n",
      "           1       0.89      0.86      0.87        84\n",
      "\n",
      "    accuracy                           1.00     56962\n",
      "   macro avg       0.94      0.93      0.94     56962\n",
      "weighted avg       1.00      1.00      1.00     56962\n",
      "\n",
      "Accuracy Score: 0.9996313331694814\n"
     ]
    }
   ],
   "source": [
    "from sklearn.ensemble import RandomForestClassifier\n",
    "random_forest = RandomForestClassifier(random_state=42, n_estimators=100)\n",
    "random_forest.fit(x_train_adasyn, y_train_adasyn)\n",
    "y_pred = random_forest.predict(x_test)\n",
    "print(\"Confusion Matrix:\\n\", confusion_matrix(y_test, y_pred))\n",
    "print(\"Classification Report:\\n\", classification_report(y_test, y_pred))\n",
    "print(\"Accuracy Score:\", accuracy_score(y_test, y_pred))"
   ]
  },
  {
   "cell_type": "code",
   "execution_count": 6,
   "id": "b6d40eea",
   "metadata": {},
   "outputs": [
    {
     "name": "stdout",
     "output_type": "stream",
     "text": [
      "Confusion Matrix:\n",
      " [[56873     5]\n",
      " [   15    69]]\n",
      "Classification Report:\n",
      "               precision    recall  f1-score   support\n",
      "\n",
      "           0       1.00      1.00      1.00     56878\n",
      "           1       0.93      0.82      0.87        84\n",
      "\n",
      "    accuracy                           1.00     56962\n",
      "   macro avg       0.97      0.91      0.94     56962\n",
      "weighted avg       1.00      1.00      1.00     56962\n",
      "\n",
      "Accuracy Score: 0.9996488887328394\n"
     ]
    }
   ],
   "source": [
    "from sklearn.ensemble import RandomForestClassifier\n",
    "random_forest = RandomForestClassifier(random_state=42, n_estimators=100)\n",
    "random_forest.fit(x_train_oversampled, y_train_oversampled)\n",
    "y_pred = random_forest.predict(x_test)\n",
    "print(\"Confusion Matrix:\\n\", confusion_matrix(y_test, y_pred))\n",
    "print(\"Classification Report:\\n\", classification_report(y_test, y_pred))\n",
    "print(\"Accuracy Score:\", accuracy_score(y_test, y_pred))"
   ]
  },
  {
   "cell_type": "code",
   "execution_count": null,
   "id": "e22d9114",
   "metadata": {},
   "outputs": [],
   "source": []
  },
  {
   "cell_type": "code",
   "execution_count": null,
   "id": "38b76e9c",
   "metadata": {},
   "outputs": [],
   "source": []
  }
 ],
 "metadata": {
  "kernelspec": {
   "display_name": "Python 3 (ipykernel)",
   "language": "python",
   "name": "python3"
  },
  "language_info": {
   "codemirror_mode": {
    "name": "ipython",
    "version": 3
   },
   "file_extension": ".py",
   "mimetype": "text/x-python",
   "name": "python",
   "nbconvert_exporter": "python",
   "pygments_lexer": "ipython3",
   "version": "3.10.9"
  }
 },
 "nbformat": 4,
 "nbformat_minor": 5
}

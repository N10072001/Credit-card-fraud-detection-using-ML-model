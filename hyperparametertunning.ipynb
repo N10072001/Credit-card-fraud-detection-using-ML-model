{
 "cells": [
  {
   "cell_type": "code",
   "execution_count": 1,
   "id": "493f29fe",
   "metadata": {},
   "outputs": [],
   "source": [
    "import pandas as pd\n",
    "from sklearn.model_selection import train_test_split, GridSearchCV\n",
    "from sklearn.preprocessing import StandardScaler\n",
    "from sklearn.metrics import classification_report, confusion_matrix\n",
    "from sklearn.linear_model import LogisticRegression\n",
    "from sklearn.neighbors import KNeighborsClassifier\n",
    "from sklearn.tree import DecisionTreeClassifier\n",
    "from sklearn.ensemble import RandomForestClassifier"
   ]
  },
  {
   "cell_type": "code",
   "execution_count": 2,
   "id": "82868861",
   "metadata": {},
   "outputs": [],
   "source": [
    "credit_card_data=pd.read_csv(\"creditcard.csv.zip\")"
   ]
  },
  {
   "cell_type": "code",
   "execution_count": 3,
   "id": "3423c73b",
   "metadata": {},
   "outputs": [],
   "source": [
    "X = credit_card_data.drop('Class', axis=1)\n",
    "y = credit_card_data['Class']"
   ]
  },
  {
   "cell_type": "code",
   "execution_count": 4,
   "id": "afd1458d",
   "metadata": {},
   "outputs": [],
   "source": [
    "scaler = StandardScaler()\n",
    "X_scaled = scaler.fit_transform(X)\n",
    "X_train, X_test, y_train, y_test = train_test_split(X, y, test_size=0.3, random_state=42)"
   ]
  },
  {
   "cell_type": "code",
   "execution_count": 5,
   "id": "cbdc5a6c",
   "metadata": {},
   "outputs": [],
   "source": [
    "models_params = {\n",
    "    'Logistic Regression': {\n",
    "        'model': LogisticRegression(max_iter=1000),\n",
    "        'params': {\n",
    "            'C': [0.01, 0.1, 1, 10],\n",
    "            'penalty': ['l2'],\n",
    "            'solver': ['lbfgs']\n",
    "        }\n",
    "    },\n",
    "    'KNN': {\n",
    "        'model': KNeighborsClassifier(),\n",
    "        'params': {\n",
    "            'n_neighbors': [3, 5, 7],\n",
    "            'weights': ['uniform', 'distance'],\n",
    "            'metric': ['euclidean', 'manhattan']\n",
    "        }\n",
    "    },\n",
    "    'Decision Tree': {\n",
    "        'model': DecisionTreeClassifier(),\n",
    "        'params': {\n",
    "            'criterion': ['gini', 'entropy'],\n",
    "            'max_depth': [None, 10, 20, 30],\n",
    "            'min_samples_split': [2, 5, 10]\n",
    "        }\n",
    "    },\n",
    "    'Random Forest': {\n",
    "        'model': RandomForestClassifier(),\n",
    "        'params': {\n",
    "            'n_estimators': [50, 100],\n",
    "            'criterion': ['gini', 'entropy'],\n",
    "            'max_depth': [None, 10, 20],\n",
    "            'min_samples_split': [2, 5]\n",
    "        }\n",
    "    }\n",
    "}\n"
   ]
  },
  {
   "cell_type": "code",
   "execution_count": null,
   "id": "74a5a8b9",
   "metadata": {},
   "outputs": [
    {
     "name": "stdout",
     "output_type": "stream",
     "text": [
      "\n",
      "Logistic Regression - Hyperparameter Tuning\n",
      "Best Parameters: {'C': 10, 'penalty': 'l2', 'solver': 'lbfgs'}\n",
      "Classification Report:\n",
      "              precision    recall  f1-score   support\n",
      "\n",
      "           0     0.9994    0.9998    0.9996     85307\n",
      "           1     0.8283    0.6029    0.6979       136\n",
      "\n",
      "    accuracy                         0.9992     85443\n",
      "   macro avg     0.9138    0.8014    0.8487     85443\n",
      "weighted avg     0.9991    0.9992    0.9991     85443\n",
      "\n",
      "Confusion Matrix:\n",
      "[[85290    17]\n",
      " [   54    82]]\n",
      "\n",
      "KNN - Hyperparameter Tuning\n",
      "Best Parameters: {'metric': 'manhattan', 'n_neighbors': 3, 'weights': 'distance'}\n",
      "Classification Report:\n",
      "              precision    recall  f1-score   support\n",
      "\n",
      "           0     0.9988    1.0000    0.9994     85307\n",
      "           1     1.0000    0.2647    0.4186       136\n",
      "\n",
      "    accuracy                         0.9988     85443\n",
      "   macro avg     0.9994    0.6324    0.7090     85443\n",
      "weighted avg     0.9988    0.9988    0.9985     85443\n",
      "\n",
      "Confusion Matrix:\n",
      "[[85307     0]\n",
      " [  100    36]]\n",
      "\n",
      "Decision Tree - Hyperparameter Tuning\n",
      "Best Parameters: {'criterion': 'gini', 'max_depth': 10, 'min_samples_split': 5}\n",
      "Classification Report:\n",
      "              precision    recall  f1-score   support\n",
      "\n",
      "           0     0.9997    0.9998    0.9998     85307\n",
      "           1     0.8943    0.8088    0.8494       136\n",
      "\n",
      "    accuracy                         0.9995     85443\n",
      "   macro avg     0.9470    0.9043    0.9246     85443\n",
      "weighted avg     0.9995    0.9995    0.9995     85443\n",
      "\n",
      "Confusion Matrix:\n",
      "[[85294    13]\n",
      " [   26   110]]\n",
      "\n",
      "Random Forest - Hyperparameter Tuning\n"
     ]
    }
   ],
   "source": [
    "for name, mp in models_params.items():\n",
    "    print(f\"\\n{name} - Hyperparameter Tuning\")\n",
    "    grid = GridSearchCV(mp['model'], mp['params'], cv=5, scoring='f1', n_jobs=-1)\n",
    "    grid.fit(X_train, y_train)\n",
    "    print(\"Best Parameters:\", grid.best_params_)\n",
    "\n",
    "    y_pred = grid.predict(X_test)\n",
    "    print(\"Classification Report:\")\n",
    "    print(classification_report(y_test, y_pred, digits=4))\n",
    "    print(\"Confusion Matrix:\")\n",
    "    print(confusion_matrix(y_test, y_pred))"
   ]
  },
  {
   "cell_type": "code",
   "execution_count": null,
   "id": "fdb287d2",
   "metadata": {},
   "outputs": [],
   "source": []
  }
 ],
 "metadata": {
  "kernelspec": {
   "display_name": "Python 3 (ipykernel)",
   "language": "python",
   "name": "python3"
  },
  "language_info": {
   "codemirror_mode": {
    "name": "ipython",
    "version": 3
   },
   "file_extension": ".py",
   "mimetype": "text/x-python",
   "name": "python",
   "nbconvert_exporter": "python",
   "pygments_lexer": "ipython3",
   "version": "3.10.9"
  }
 },
 "nbformat": 4,
 "nbformat_minor": 5
}
